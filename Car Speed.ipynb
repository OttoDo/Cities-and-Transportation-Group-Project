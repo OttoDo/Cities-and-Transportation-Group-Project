import pandas as pd
import requests
import json

# Load the CSV file with GPS coordinates
file_path = "GPS_Paris.csv"
df = pd.read_csv(file_path)

# API Endpoints
ROADS_API_URL = "https://roads.googleapis.com/v1/nearestRoads"
DIRECTIONS_API_URL = "https://maps.googleapis.com/maps/api/directions/json"

# Function to find the closest road segment using Roads API
def get_nearest_road(lat, lon, api_key):
    url = f"{ROADS_API_URL}?points={lat},{lon}&key={api_key}"
    response = requests.get(url)

    if response.status_code == 200:
        data = response.json()
        snapped_points = data.get("snappedPoints", [])
        if snapped_points:
            snapped_location = snapped_points[0]["location"]
            return snapped_location["latitude"], snapped_location["longitude"]
    
    print(f"Error fetching nearest road for {lat}, {lon}: {response.status_code} - {response.text}")
    return lat, lon  # Fallback to original coordinates if snapping fails

# Function to get travel time, distance, and speed on the closest road segment
def get_car_travel_data(snapped_lat, snapped_lon, api_key):
    dest_lat = snapped_lat + 0.0005  # Offset destination slightly to avoid same point issue
    dest_lon = snapped_lon + 0.0005
    
    url = f"{DIRECTIONS_API_URL}?origin={snapped_lat},{snapped_lon}&destination={dest_lat},{dest_lon}&mode=driving&key={api_key}"
    response = requests.get(url)

    if response.status_code == 200:
        data = response.json()
        if "routes" in data and data["routes"]:
            legs = data["routes"][0]["legs"]
            if legs:
                distance_m = legs[0]["distance"]["value"]  # Distance in meters
                duration_s = legs[0]["duration"]["value"]  # Duration in seconds
                speed_kmh = round((distance_m / duration_s) * 3.6, 2) if duration_s > 0 else "N/A"  # Convert m/s to km/h
                return duration_s, distance_m, speed_kmh

    print(f"Error fetching travel data for {snapped_lat}, {snapped_lon}: {response.status_code} - {response.text}")
    return "N/A", "N/A", "N/A"

# Process all GPS locations in the CSV file
output_data = []
for _, row in df.iterrows():
    try:
        arrond = row["Arrondissement"]
        lat, lon = map(float, row["GPS"].split(", "))

        # Find nearest road segment
        snapped_lat, snapped_lon = get_nearest_road(lat, lon, API_KEY)

        # Get travel time, distance, and speed on the nearest road segment
        travel_time, travel_distance, car_speed = get_car_travel_data(snapped_lat, snapped_lon, API_KEY)

        # Append data
        output_data.append({
            "Arrondissement": arrond,
            "Latitude": lat,
            "Longitude": lon,
            "SnappedLatitude": snapped_lat,
            "SnappedLongitude": snapped_lon,
            "TravelTimeSeconds": travel_time,
            "TravelDistanceMeters": travel_distance,
            "SpeedKmh": car_speed
        })

    except ValueError:
        print(f"Skipping invalid data: {row['GPS']}")

# Save results to separate CSV file
output_file = "Car_Travel_Speed_Snapped.csv"
output_df = pd.DataFrame(output_data)
output_df.to_csv(output_file, index=False)

print(f"Process completed! Results saved to {output_file}")
